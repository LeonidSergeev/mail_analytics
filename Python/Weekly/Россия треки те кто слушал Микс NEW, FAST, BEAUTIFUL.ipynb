{
 "cells": [
  {
   "cell_type": "code",
   "execution_count": null,
   "metadata": {},
   "outputs": [],
   "source": [
    "#date = dt.datetime.today().strftime(\"%m_%d_%Y\")\n",
    "#result_w_date = '/Users/l.sergeev/Downloads/result' + '_' + date + '.csv'\n",
    "#result_w_date"
   ]
  },
  {
   "cell_type": "code",
   "execution_count": null,
   "metadata": {},
   "outputs": [],
   "source": [
    "df = pd.read_csv('/Users/l.sergeev/Downloads/result_ios_Play_track_to_end_2021-03-08.csv')"
   ]
  },
  {
   "cell_type": "code",
   "execution_count": null,
   "metadata": {},
   "outputs": [],
   "source": [
    "df"
   ]
  },
  {
   "cell_type": "code",
   "execution_count": null,
   "metadata": {},
   "outputs": [],
   "source": [
    "#new_version_users = data.loc[data.idAppVersionTitle.str.contains(\"5.1.7\")].reset_index(drop=True)\n",
    "#new_version_users.to_csv(\"/Users/l.sergeev/Downloads/test_data_new_week.csv\")\n",
    "#new_version_users.info()"
   ]
  },
  {
   "cell_type": "code",
   "execution_count": null,
   "metadata": {},
   "outputs": [],
   "source": [
    "#df = pd.DataFrame(data=new_version_users).reset_index(drop=True)\n",
    "#df.info()"
   ]
  },
  {
   "cell_type": "code",
   "execution_count": null,
   "metadata": {},
   "outputs": [],
   "source": [
    "df.idAppVersionTitle.unique()"
   ]
  },
  {
   "cell_type": "code",
   "execution_count": null,
   "metadata": {
    "scrolled": true
   },
   "outputs": [],
   "source": [
    "#names = df['params.name'][0]\n",
    "#names = ast.literal_eval(names)\n",
    "#df['params.value'] = df['params.value'].astype(str).apply(lambda x: ast.literal_eval(x))\n",
    "#df1 = pd.DataFrame(df[\"params.value\"].to_list(), columns=names)\n",
    "#df1.info()\n"
   ]
  },
  {
   "cell_type": "code",
   "execution_count": null,
   "metadata": {},
   "outputs": [],
   "source": [
    "#df2 = df.join(df1)"
   ]
  },
  {
   "cell_type": "code",
   "execution_count": null,
   "metadata": {},
   "outputs": [],
   "source": [
    "#df2.info()"
   ]
  },
  {
   "cell_type": "code",
   "execution_count": null,
   "metadata": {},
   "outputs": [],
   "source": [
    "df2_grouped = df.groupby(['dtEvent','idDevice','subscription_type','from'])['countCustomEvent'].sum().reset_index()\n"
   ]
  },
  {
   "cell_type": "code",
   "execution_count": null,
   "metadata": {},
   "outputs": [],
   "source": [
    "df3 = df2_grouped.merge(cat,on='from',how='right')\n",
    "df3.info()"
   ]
  },
  {
   "cell_type": "code",
   "execution_count": null,
   "metadata": {},
   "outputs": [],
   "source": [
    "mix_users_df = df3[[\"dtEvent\",\"idDevice\"]][df3['normal_title'] == 'Микс']\n",
    "mix_users_df = mix_users_df.drop_duplicates().dropna()\n",
    "mix_users_df['Mix_user'] = 'Mix_user'\n",
    "mix_users_df.info()"
   ]
  },
  {
   "cell_type": "code",
   "execution_count": null,
   "metadata": {},
   "outputs": [],
   "source": [
    "df4_main = df3.merge(mix_users_df,on=['dtEvent','idDevice'],how='left')\n",
    "df4_main = df4_main[df4_main['dtEvent'].notna()]\n",
    "df4_main['Mix_user'] = df4_main['Mix_user'].fillna('Non mix user')\n",
    "df4_main = df4_main[df4_main['subscription_type'].isin([\"active\",'none'])].reset_index(drop=True)\n",
    "df4_main.info()\n",
    "#df4_main.to_csv(\"/Users/l.sergeev/Downloads/data_weekly.csv\")"
   ]
  },
  {
   "cell_type": "code",
   "execution_count": null,
   "metadata": {},
   "outputs": [],
   "source": []
  },
  {
   "cell_type": "code",
   "execution_count": null,
   "metadata": {},
   "outputs": [],
   "source": [
    "unique_users = df4_main.groupby(['Mix_user','dtEvent','subscription_type'])['idDevice'].nunique()\n",
    "total_streams = df4_main.groupby(['Mix_user','dtEvent','subscription_type'])['countCustomEvent'].sum()\n",
    "median = df4_main.groupby(['Mix_user','dtEvent','subscription_type'])['countCustomEvent'].sum()\n",
    "average = total_streams / unique_users"
   ]
  },
  {
   "cell_type": "code",
   "execution_count": null,
   "metadata": {},
   "outputs": [],
   "source": [
    "df_final = pd.concat([unique_users,average], axis=1).reset_index()\n",
    "df_final"
   ]
  },
  {
   "cell_type": "code",
   "execution_count": null,
   "metadata": {},
   "outputs": [],
   "source": []
  },
  {
   "cell_type": "code",
   "execution_count": null,
   "metadata": {},
   "outputs": [],
   "source": []
  },
  {
   "cell_type": "code",
   "execution_count": null,
   "metadata": {},
   "outputs": [],
   "source": []
  },
  {
   "cell_type": "code",
   "execution_count": null,
   "metadata": {},
   "outputs": [],
   "source": []
  },
  {
   "cell_type": "code",
   "execution_count": null,
   "metadata": {},
   "outputs": [],
   "source": []
  },
  {
   "cell_type": "code",
   "execution_count": null,
   "metadata": {},
   "outputs": [],
   "source": []
  },
  {
   "cell_type": "code",
   "execution_count": null,
   "metadata": {},
   "outputs": [],
   "source": []
  },
  {
   "cell_type": "code",
   "execution_count": null,
   "metadata": {},
   "outputs": [],
   "source": []
  },
  {
   "cell_type": "code",
   "execution_count": null,
   "metadata": {},
   "outputs": [],
   "source": []
  },
  {
   "cell_type": "code",
   "execution_count": null,
   "metadata": {},
   "outputs": [],
   "source": [
    "#users_ys.to_csv(\"/Users/l.sergeev/Downloads/users_for_ab.csv\")"
   ]
  },
  {
   "cell_type": "code",
   "execution_count": null,
   "metadata": {},
   "outputs": [],
   "source": [
    "def event_parser(df, columns_2):\n",
    "    df['params.value'] = df['params.value'].astype(str).apply(lambda x: ast.literal_eval(x))\n",
    "    columns_1 = list(df.columns)[1:]\n",
    "    columns_1.remove('params.name')\n",
    "    columns_1.remove('params.value')\n",
    "    df1 = pd.DataFrame(df[columns_1], columns=columns_1)\n",
    "    value_list = df[\"params.value\"].to_list()\n",
    "    df2_data = []\n",
    "    for index, row in df.iterrows():\n",
    "        names = ast.literal_eval(row['params.name'])\n",
    "        names_ind = {}\n",
    "        for k, v in enumerate(names):\n",
    "            names_ind[v] = k\n",
    "        indices = [names_ind[k] for k in columns_2]\n",
    "        splice = pd.Series(row['params.value'])[indices]\n",
    "        df2_data.append(list(splice))\n",
    "    df2 = pd.DataFrame(df2_data[:], columns=columns_2)\n",
    "    df3 = df1.join(df2)\n",
    "    return df3"
   ]
  },
  {
   "cell_type": "code",
   "execution_count": null,
   "metadata": {},
   "outputs": [],
   "source": [
    "# some fields from 'params.name'\n",
    "columns_2 = [\n",
    "    'subscription_type',\n",
    "    'from'\n",
    "]\n",
    "df2 = event_parser(new_version_users, columns_2)\n",
    "df2"
   ]
  },
  {
   "cell_type": "code",
   "execution_count": null,
   "metadata": {},
   "outputs": [],
   "source": [
    "df4_main"
   ]
  },
  {
   "cell_type": "code",
   "execution_count": null,
   "metadata": {},
   "outputs": [],
   "source": [
    "df4_main['progress'] = df4_main['progress'].astype(float)\n",
    "df4_main['time_205'] = df4_main['progress'] * 205 / 100 * df4_main['countCustomEvent']\n",
    "df4_main"
   ]
  },
  {
   "cell_type": "code",
   "execution_count": null,
   "metadata": {},
   "outputs": [],
   "source": [
    "unique_users = df4_main.groupby(['Mix_user','dtEvent','subscription_type'])['idDevice'].nunique()\n",
    "total_streams = df4_main.groupby(['Mix_user','dtEvent','subscription_type'])['time_205'].sum()\n",
    "median = df4_main.groupby(['Mix_user','dtEvent','subscription_type'])['time_205'].sum()\n",
    "average = total_streams / unique_users"
   ]
  },
  {
   "cell_type": "code",
   "execution_count": null,
   "metadata": {},
   "outputs": [],
   "source": [
    "df_final = pd.concat([unique_users,average], axis=1).reset_index()\n",
    "df_final"
   ]
  },
  {
   "cell_type": "code",
   "execution_count": null,
   "metadata": {},
   "outputs": [],
   "source": [
    "unique_users = df4_main.groupby(['dtEvent','subscription_type'])['idDevice'].nunique()\n",
    "total_streams = df4_main.groupby(['dtEvent','subscription_type'])['time_205'].sum()\n",
    "median = df4_main.groupby(['dtEvent','subscription_type'])['time_205'].sum()\n",
    "average = total_streams / unique_users\n",
    "df_final = pd.concat([unique_users,average], axis=1).reset_index()\n",
    "df_final"
   ]
  },
  {
   "cell_type": "code",
   "execution_count": null,
   "metadata": {},
   "outputs": [],
   "source": [
    "unique_users"
   ]
  },
  {
   "cell_type": "code",
   "execution_count": null,
   "metadata": {},
   "outputs": [],
   "source": [
    "df4_main"
   ]
  },
  {
   "cell_type": "code",
   "execution_count": null,
   "metadata": {},
   "outputs": [],
   "source": []
  }
 ],
 "metadata": {
  "kernelspec": {
   "display_name": "Python 3",
   "language": "python",
   "name": "python3"
  },
  "language_info": {
   "codemirror_mode": {
    "name": "ipython",
    "version": 3
   },
   "file_extension": ".py",
   "mimetype": "text/x-python",
   "name": "python",
   "nbconvert_exporter": "python",
   "pygments_lexer": "ipython3",
   "version": "3.6.5"
  }
 },
 "nbformat": 4,
 "nbformat_minor": 4
}
