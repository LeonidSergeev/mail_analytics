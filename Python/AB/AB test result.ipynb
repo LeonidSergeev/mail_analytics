{
 "cells": [
  {
   "cell_type": "code",
   "execution_count": null,
   "metadata": {},
   "outputs": [],
   "source": [
    "import pandas as pd\n",
    "import ast\n",
    "import datetime\n",
    "pd.set_option('display.max_row', 1000)\n",
    "experiment_1 = pd.read_csv(\"/Users/l.sergeev/Downloads/sony_experiment_1.csv\")\n",
    "experiment_2 = pd.read_csv(\"/Users/l.sergeev/Downloads/sony_experiment_2.csv\")\n",
    "experiment_3 = pd.read_csv(\"/Users/l.sergeev/Downloads/sony_experiment_3.csv\")\n",
    "experiment_4 = pd.read_csv(\"/Users/l.sergeev/Downloads/sony_experiment_4.csv\")\n",
    "experiment_5 = pd.read_csv(\"/Users/l.sergeev/Downloads/sony_experiment_5.csv\")\n",
    "experiment_6 = pd.read_csv(\"/Users/l.sergeev/Downloads/sony_experiment_6.csv\")\n",
    "experiment_7 = pd.read_csv(\"/Users/l.sergeev/Downloads/sony_experiment_7.csv\")\n",
    "experiment_8 = pd.read_csv(\"/Users/l.sergeev/Downloads/sony_experiment_8.csv\")\n",
    "experiment_9 = pd.read_csv(\"/Users/l.sergeev/Downloads/sony_experiment_9.csv\")\n",
    "experiment_10 = pd.read_csv(\"/Users/l.sergeev/Downloads/sony_experiment_10.csv\")\n",
    "experiment_11 = pd.read_csv(\"/Users/l.sergeev/Downloads/sony_experiment_11.csv\")\n",
    "experiment_12 = pd.read_csv(\"/Users/l.sergeev/Downloads/sony_experiment_12.csv\")\n",
    "experiment_13 = pd.read_csv(\"/Users/l.sergeev/Downloads/sony_experiment_13.csv\")\n",
    "experiment_14 = pd.read_csv(\"/Users/l.sergeev/Downloads/sony_experiment_14.csv\")\n",
    "experiment_15 = pd.read_csv(\"/Users/l.sergeev/Downloads/sony_experiment_15.csv\")\n",
    "experiment_16 = pd.read_csv(\"/Users/l.sergeev/Downloads/sony_experiment_16.csv\")\n",
    "experiment_17 = pd.read_csv(\"/Users/l.sergeev/Downloads/sony_experiment_17.csv\")\n",
    "experiment_18 = pd.read_csv(\"/Users/l.sergeev/Downloads/sony_experiment_18.csv\")\n",
    "experiment_19 = pd.read_csv(\"/Users/l.sergeev/Downloads/sony_experiment_19.csv\")\n",
    "experiment_20 = pd.read_csv(\"/Users/l.sergeev/Downloads/sony_experiment_20.csv\")\n",
    "\n",
    "\n",
    "\n"
   ]
  },
  {
   "cell_type": "code",
   "execution_count": null,
   "metadata": {},
   "outputs": [],
   "source": [
    "df_final = pd.concat([experiment_1,experiment_2,experiment_3,experiment_4,experiment_5,experiment_6,experiment_7,experiment_8,experiment_9,experiment_10,experiment_11,experiment_12,experiment_13,experiment_14,experiment_15,experiment_16,experiment_17,experiment_18,experiment_19,experiment_20])"
   ]
  },
  {
   "cell_type": "code",
   "execution_count": null,
   "metadata": {},
   "outputs": [],
   "source": [
    "df_final"
   ]
  },
  {
   "cell_type": "code",
   "execution_count": null,
   "metadata": {},
   "outputs": [],
   "source": [
    "df_final.to_csv(\"/Users/l.sergeev/Downloads/df_final_experiment.csv\")"
   ]
  },
  {
   "cell_type": "code",
   "execution_count": null,
   "metadata": {},
   "outputs": [],
   "source": [
    "df_final.dtEvent.unique()"
   ]
  },
  {
   "cell_type": "code",
   "execution_count": null,
   "metadata": {},
   "outputs": [],
   "source": [
    "______"
   ]
  },
  {
   "cell_type": "code",
   "execution_count": null,
   "metadata": {},
   "outputs": [],
   "source": [
    "df_total_tracks = df_final.groupby(['group','customUserId'])['countCustomEvent'].sum().reset_index()\n",
    "df_total_tracks"
   ]
  },
  {
   "cell_type": "code",
   "execution_count": null,
   "metadata": {},
   "outputs": [],
   "source": [
    "#df_total_tracks.to_csv(\"/Users/l.sergeev/Downloads/df_total_tracks.csv\")"
   ]
  },
  {
   "cell_type": "code",
   "execution_count": null,
   "metadata": {},
   "outputs": [],
   "source": [
    "average_tracks = df_total_tracks.groupby(['group'])['countCustomEvent'].mean().reset_index()\n",
    "average_tracks"
   ]
  },
  {
   "cell_type": "code",
   "execution_count": null,
   "metadata": {},
   "outputs": [],
   "source": [
    "average_tracks_users = df_total_tracks.groupby(['group'])['customUserId'].nunique().reset_index()\n",
    "average_tracks_users"
   ]
  },
  {
   "cell_type": "code",
   "execution_count": null,
   "metadata": {},
   "outputs": [],
   "source": [
    "______"
   ]
  },
  {
   "cell_type": "code",
   "execution_count": null,
   "metadata": {},
   "outputs": [],
   "source": [
    "df_final['progress'] = df_final['progress'].astype(int)"
   ]
  },
  {
   "cell_type": "code",
   "execution_count": null,
   "metadata": {},
   "outputs": [],
   "source": [
    "df_final['time'] = df_final['progress']*200/100"
   ]
  },
  {
   "cell_type": "code",
   "execution_count": null,
   "metadata": {},
   "outputs": [],
   "source": [
    "df_total_time = df_final.groupby(['group','customUserId'])['time'].sum().reset_index()\n",
    "df_total_time"
   ]
  },
  {
   "cell_type": "code",
   "execution_count": null,
   "metadata": {},
   "outputs": [],
   "source": [
    "df_total_time.to_csv(\"/Users/l.sergeev/Downloads/df_total_time.csv\")"
   ]
  },
  {
   "cell_type": "code",
   "execution_count": null,
   "metadata": {},
   "outputs": [],
   "source": [
    "average_time = df_total_time.groupby(['group'])['time'].mean().reset_index()\n",
    "average_time"
   ]
  },
  {
   "cell_type": "code",
   "execution_count": null,
   "metadata": {},
   "outputs": [],
   "source": [
    "_______"
   ]
  },
  {
   "cell_type": "code",
   "execution_count": null,
   "metadata": {},
   "outputs": [],
   "source": [
    "df_total_mix = df_final[df_final['from'].isin(['autoplay_mix_playlist','main_friends','main_mix_smart','main_recommendation_album','main_recommendation_artist','main_recommendation_playlist','main_recommendation_track','menu_mix_album','menu_mix_playlist','menu_mix_track','mix_album','mix_artist','mix_genre','mix_player_notification','mix_playlist','mix_select','mix_smart','menu_mix_artist'])].reset_index(drop=True)\n",
    "df_total_mix"
   ]
  },
  {
   "cell_type": "code",
   "execution_count": null,
   "metadata": {},
   "outputs": [],
   "source": [
    "_______"
   ]
  },
  {
   "cell_type": "code",
   "execution_count": null,
   "metadata": {},
   "outputs": [],
   "source": [
    "df_total_tracks_mix = df_total_mix.groupby(['group','customUserId'])['countCustomEvent'].sum().reset_index()\n",
    "df_total_tracks_mix"
   ]
  },
  {
   "cell_type": "code",
   "execution_count": null,
   "metadata": {},
   "outputs": [],
   "source": [
    "df_total_tracks_mix.to_csv(\"/Users/l.sergeev/Downloads/df_total_tracks_mix.csv\")"
   ]
  },
  {
   "cell_type": "code",
   "execution_count": null,
   "metadata": {},
   "outputs": [],
   "source": [
    "df_total_tracks_mix_users = df_total_tracks_mix.groupby(['group'])['customUserId'].nunique().reset_index()\n",
    "df_total_tracks_mix_users"
   ]
  },
  {
   "cell_type": "code",
   "execution_count": null,
   "metadata": {},
   "outputs": [],
   "source": [
    "#df_total_tracks_mix_5 = df_total_tracks_mix[df_total_tracks_mix['countCustomEvent'] >= 20].reset_index(drop=True)\n",
    "#df_total_tracks_mix_5"
   ]
  },
  {
   "cell_type": "code",
   "execution_count": null,
   "metadata": {},
   "outputs": [],
   "source": [
    "average_tracks_mix = df_total_tracks_mix.groupby(['group'])['countCustomEvent'].mean().reset_index()\n",
    "average_tracks_mix"
   ]
  },
  {
   "cell_type": "code",
   "execution_count": null,
   "metadata": {},
   "outputs": [],
   "source": [
    "_____"
   ]
  },
  {
   "cell_type": "code",
   "execution_count": null,
   "metadata": {},
   "outputs": [],
   "source": [
    "df_total_mix['time'] = df_total_mix['progress']*200/100"
   ]
  },
  {
   "cell_type": "code",
   "execution_count": null,
   "metadata": {},
   "outputs": [],
   "source": [
    "df_total_time_mix = df_total_mix.groupby(['group','customUserId'])['time'].sum().reset_index()\n",
    "df_total_time_mix"
   ]
  },
  {
   "cell_type": "code",
   "execution_count": null,
   "metadata": {},
   "outputs": [],
   "source": [
    "average_time = df_total_time_mix.groupby(['group'])['time'].mean().reset_index()\n",
    "average_time"
   ]
  },
  {
   "cell_type": "code",
   "execution_count": null,
   "metadata": {},
   "outputs": [],
   "source": [
    "______"
   ]
  },
  {
   "cell_type": "code",
   "execution_count": null,
   "metadata": {},
   "outputs": [],
   "source": [
    "df_total_mix_clusters = df_final[df_final['from'].isin(['main_recommendation_album','main_recommendation_artist','main_recommendation_playlist','main_recommendation_track'])].reset_index(drop=True)\n",
    "df_total_mix_clusters"
   ]
  },
  {
   "cell_type": "code",
   "execution_count": null,
   "metadata": {},
   "outputs": [],
   "source": [
    "df_total_mix_clusters_users = df_total_mix_clusters.groupby(['group'])['customUserId'].nunique().reset_index()\n",
    "df_total_mix_clusters_users"
   ]
  },
  {
   "cell_type": "code",
   "execution_count": null,
   "metadata": {},
   "outputs": [],
   "source": [
    "df_total_tracks_mix_clusters = df_total_mix_clusters.groupby(['group','customUserId'])['countCustomEvent'].sum().reset_index()\n",
    "df_total_tracks_mix_clusters"
   ]
  },
  {
   "cell_type": "code",
   "execution_count": null,
   "metadata": {},
   "outputs": [],
   "source": [
    "average_tracks_mix_clusters = df_total_tracks_mix_clusters.groupby(['group'])['countCustomEvent'].mean().reset_index()\n",
    "average_tracks_mix_clusters"
   ]
  },
  {
   "cell_type": "code",
   "execution_count": null,
   "metadata": {},
   "outputs": [],
   "source": [
    "______"
   ]
  },
  {
   "cell_type": "code",
   "execution_count": null,
   "metadata": {},
   "outputs": [],
   "source": [
    "df_total_time_mix_clusters = df_total_mix_clusters.groupby(['group','customUserId'])['time'].sum().reset_index()\n",
    "df_total_time_mix_clusters"
   ]
  },
  {
   "cell_type": "code",
   "execution_count": null,
   "metadata": {},
   "outputs": [],
   "source": [
    "average_time_mix_clusters = df_total_time_mix_clusters.groupby(['group'])['time'].mean().reset_index()\n",
    "average_time_mix_clusters"
   ]
  },
  {
   "cell_type": "code",
   "execution_count": null,
   "metadata": {},
   "outputs": [],
   "source": [
    "____________"
   ]
  },
  {
   "cell_type": "code",
   "execution_count": null,
   "metadata": {},
   "outputs": [],
   "source": []
  },
  {
   "cell_type": "code",
   "execution_count": null,
   "metadata": {},
   "outputs": [],
   "source": []
  },
  {
   "cell_type": "code",
   "execution_count": null,
   "metadata": {},
   "outputs": [],
   "source": []
  },
  {
   "cell_type": "code",
   "execution_count": null,
   "metadata": {},
   "outputs": [],
   "source": [
    "______"
   ]
  },
  {
   "cell_type": "code",
   "execution_count": null,
   "metadata": {},
   "outputs": [],
   "source": [
    "df_total_mix_days_cnt = df_total_mix.groupby(['customUserId'])['dtEvent'].nunique().reset_index()\n",
    "df_total_mix_days_cnt"
   ]
  },
  {
   "cell_type": "code",
   "execution_count": null,
   "metadata": {},
   "outputs": [],
   "source": [
    "df_total_mix_days_cnt = df_total_mix_days_cnt[df_total_mix_days_cnt['dtEvent'] >= 5].reset_index(drop=True)\n",
    "df_total_mix_days_cnt"
   ]
  },
  {
   "cell_type": "code",
   "execution_count": null,
   "metadata": {},
   "outputs": [],
   "source": [
    "mix_tracks_5_days = df_total_tracks_mix.merge(df_total_mix_days_cnt,on='customUserId',how='right').dropna().reset_index()\n",
    "mix_tracks_5_days"
   ]
  },
  {
   "cell_type": "code",
   "execution_count": null,
   "metadata": {},
   "outputs": [],
   "source": [
    "average_tracks_mix = mix_tracks_5_days.groupby(['group'])['countCustomEvent'].mean().reset_index()\n",
    "average_tracks_mix"
   ]
  },
  {
   "cell_type": "code",
   "execution_count": null,
   "metadata": {},
   "outputs": [],
   "source": [
    "_____"
   ]
  },
  {
   "cell_type": "code",
   "execution_count": null,
   "metadata": {},
   "outputs": [],
   "source": []
  },
  {
   "cell_type": "code",
   "execution_count": null,
   "metadata": {},
   "outputs": [],
   "source": [
    "mix_time_5_days = df_total_time_mix.merge(df_total_mix_days_cnt,on='customUserId',how='right').dropna().reset_index()\n",
    "mix_time_5_days"
   ]
  },
  {
   "cell_type": "code",
   "execution_count": null,
   "metadata": {},
   "outputs": [],
   "source": [
    "average_time_5_days = mix_time_5_days.groupby(['group'])['time'].mean().reset_index()\n",
    "average_time_5_days"
   ]
  },
  {
   "cell_type": "code",
   "execution_count": null,
   "metadata": {},
   "outputs": [],
   "source": [
    "_______________\n",
    "\n"
   ]
  },
  {
   "cell_type": "code",
   "execution_count": null,
   "metadata": {},
   "outputs": [],
   "source": [
    "#df_main_page_tracks = df_final[df_final['from'].isin(['main_editors_albums', 'main_editors_new_playlists', 'main_editors_playlists', 'main_friends', 'main_new_albums', 'main_new_releases', 'main_new_singles', 'main_popular_albums', 'main_popular_track', 'main_recommendation', 'main_recommendation_album', 'main_recommendation_artist', 'main_recommendation_playlist', 'main_recommendation_track'])].reset_index(drop=True)\n",
    "df_main_page_tracks = df_final[df_final['from'].isin(['main_editors_playlists'])].reset_index(drop=True)\n",
    "df_main_page_tracks"
   ]
  },
  {
   "cell_type": "code",
   "execution_count": null,
   "metadata": {},
   "outputs": [],
   "source": [
    "df_main_page_tracks_group = df_main_page_tracks.groupby(['group','customUserId','from'])['time'].sum().reset_index()\n",
    "df_main_page_tracks_group"
   ]
  },
  {
   "cell_type": "code",
   "execution_count": null,
   "metadata": {},
   "outputs": [],
   "source": [
    "df_main_page_tracks_average = df_main_page_tracks_group.groupby(['group','from'])['time'].mean().reset_index()\n",
    "df_main_page_tracks_average\n"
   ]
  },
  {
   "cell_type": "code",
   "execution_count": null,
   "metadata": {},
   "outputs": [],
   "source": []
  },
  {
   "cell_type": "code",
   "execution_count": null,
   "metadata": {},
   "outputs": [],
   "source": []
  },
  {
   "cell_type": "code",
   "execution_count": null,
   "metadata": {},
   "outputs": [],
   "source": []
  },
  {
   "cell_type": "code",
   "execution_count": null,
   "metadata": {},
   "outputs": [],
   "source": []
  },
  {
   "cell_type": "code",
   "execution_count": null,
   "metadata": {},
   "outputs": [],
   "source": []
  },
  {
   "cell_type": "code",
   "execution_count": null,
   "metadata": {},
   "outputs": [],
   "source": [
    "df_final_0 = df_final[df_final['progress'] == 0].reset_index(drop=True)\n",
    "df_final_0"
   ]
  },
  {
   "cell_type": "code",
   "execution_count": null,
   "metadata": {},
   "outputs": [],
   "source": [
    "df_final_30 = df_final[df_final['progress'] >= 30].reset_index(drop=True)\n",
    "df_final_30"
   ]
  },
  {
   "cell_type": "code",
   "execution_count": null,
   "metadata": {},
   "outputs": [],
   "source": [
    "df_final_30_grp = df_final_30.groupby(['group','customUserId'])['countCustomEvent'].sum().reset_index()\n",
    "df_final_30_grp"
   ]
  },
  {
   "cell_type": "code",
   "execution_count": null,
   "metadata": {},
   "outputs": [],
   "source": [
    "df_final_30_grp.to_csv(\"/Users/l.sergeev/Downloads/df_final_30_grp.csv\")"
   ]
  },
  {
   "cell_type": "code",
   "execution_count": null,
   "metadata": {},
   "outputs": [],
   "source": [
    "df_total_30_mean = df_final_30_grp.groupby(['group'])['countCustomEvent'].mean().reset_index()\n",
    "df_total_30_mean"
   ]
  },
  {
   "cell_type": "code",
   "execution_count": null,
   "metadata": {},
   "outputs": [],
   "source": [
    "df_total_tracks = df_final.groupby(['group','customUserId'])['countCustomEvent'].sum().reset_index()\n",
    "df_total_tracks"
   ]
  },
  {
   "cell_type": "code",
   "execution_count": null,
   "metadata": {},
   "outputs": [],
   "source": [
    "df_total_skips = df_final_0.groupby(['group','customUserId'])['countCustomEvent'].sum().reset_index()\n",
    "df_total_skips"
   ]
  },
  {
   "cell_type": "code",
   "execution_count": null,
   "metadata": {},
   "outputs": [],
   "source": [
    "df_tracks_ratio = df_total_tracks.merge(df_total_skips,on='customUserId',how='left')\n",
    "df_tracks_ratio"
   ]
  },
  {
   "cell_type": "code",
   "execution_count": null,
   "metadata": {},
   "outputs": [],
   "source": [
    "df_tracks_ratio['countCustomEvent_y'].fillna(0, inplace=True)\n",
    "df_tracks_ratio"
   ]
  },
  {
   "cell_type": "code",
   "execution_count": null,
   "metadata": {},
   "outputs": [],
   "source": [
    "df_tracks_ratio['skip_share'] = df_tracks_ratio['countCustomEvent_y'] / df_tracks_ratio['countCustomEvent_x'] * 100\n",
    "df_tracks_ratio"
   ]
  },
  {
   "cell_type": "code",
   "execution_count": null,
   "metadata": {},
   "outputs": [],
   "source": [
    "df_tracks_ratio_mean = df_tracks_ratio.groupby(['group_x'])['skip_share'].mean().reset_index()\n",
    "df_tracks_ratio_mean"
   ]
  },
  {
   "cell_type": "code",
   "execution_count": null,
   "metadata": {},
   "outputs": [],
   "source": [
    "df_total_skips_mean = df_total_skips.groupby(['group'])['countCustomEvent'].mean().reset_index()\n",
    "df_total_skips_mean"
   ]
  },
  {
   "cell_type": "code",
   "execution_count": null,
   "metadata": {},
   "outputs": [],
   "source": [
    "df_final_30_grp['countCustomEvent'] = df_final_30_grp['countCustomEvent'].astype(float)\n"
   ]
  },
  {
   "cell_type": "code",
   "execution_count": null,
   "metadata": {},
   "outputs": [],
   "source": []
  },
  {
   "cell_type": "code",
   "execution_count": null,
   "metadata": {},
   "outputs": [],
   "source": []
  },
  {
   "cell_type": "code",
   "execution_count": null,
   "metadata": {},
   "outputs": [],
   "source": [
    "etalon = df_total_tracks_mix[[\"countCustomEvent\"]][df_total_tracks_mix['group'] == 'filter_sony_tracks_etalon'].reset_index()\n",
    "experiment = df_total_tracks_mix[[\"countCustomEvent\"]][df_total_tracks_mix['group'] == 'filter_sony_tracks_C'].reset_index()\n"
   ]
  },
  {
   "cell_type": "code",
   "execution_count": null,
   "metadata": {},
   "outputs": [],
   "source": []
  },
  {
   "cell_type": "code",
   "execution_count": null,
   "metadata": {},
   "outputs": [],
   "source": [
    "etalon = df_total_time_mix[[\"time\"]][df_total_time_mix['group'] == 'filter_sony_tracks_etalon'].reset_index()\n",
    "experiment = df_total_time_mix[[\"time\"]][df_total_time_mix['group'] == 'filter_sony_tracks_C'].reset_index()\n"
   ]
  },
  {
   "cell_type": "code",
   "execution_count": null,
   "metadata": {},
   "outputs": [],
   "source": []
  },
  {
   "cell_type": "code",
   "execution_count": null,
   "metadata": {},
   "outputs": [],
   "source": [
    "# Mann-Whitney U test\n",
    "from numpy.random import seed\n",
    "from numpy.random import randn\n",
    "from scipy.stats import mannwhitneyu\n",
    "# seed the random number generator\n",
    "seed(1)\n",
    "# generate two independent samples\n",
    "data1 = 5 * randn(100) + 50\n",
    "data2 = 5 * randn(100) + 51\n",
    "# compare samples\n",
    "stat, p = mannwhitneyu(etalon['time'], experiment['time'])\n",
    "print('Statistics=%.3f, p=%.3f' % (stat, p))\n",
    "# interpret\n",
    "alpha = 0.05\n",
    "if p > alpha:\n",
    "\tprint('Same distribution (fail to reject H0)')\n",
    "else:\n",
    "\tprint('Different distribution (reject H0)')"
   ]
  },
  {
   "cell_type": "code",
   "execution_count": null,
   "metadata": {},
   "outputs": [],
   "source": [
    "etalon"
   ]
  },
  {
   "cell_type": "code",
   "execution_count": null,
   "metadata": {},
   "outputs": [],
   "source": [
    "# t-test for independent samples\n",
    "from math import sqrt\n",
    "from numpy.random import seed\n",
    "from numpy.random import randn\n",
    "from numpy import mean\n",
    "from scipy.stats import sem\n",
    "from scipy.stats import t\n",
    " \n",
    "# function for calculating the t-test for two independent samples\n",
    "def independent_ttest(data1, data2, alpha):\n",
    "\t# calculate means\n",
    "\tmean1, mean2 = mean(data1), mean(data2)\n",
    "\t# calculate standard errors\n",
    "\tse1, se2 = sem(data1), sem(data2)\n",
    "\t# standard error on the difference between the samples\n",
    "\tsed = sqrt(se1**2.0 + se2**2.0)\n",
    "\t# calculate the t statistic\n",
    "\tt_stat = (mean1 - mean2) / sed\n",
    "\t# degrees of freedom\n",
    "\tdf = len(data1) + len(data2) - 2\n",
    "\t# calculate the critical value\n",
    "\tcv = t.ppf(1.0 - alpha, df)\n",
    "\t# calculate the p-value\n",
    "\tp = (1.0 - t.cdf(abs(t_stat), df)) * 2.0\n",
    "\t# return everything\n",
    "\treturn t_stat, df, cv, p\n",
    " \n",
    "data1 = etalon['countCustomEvent']\n",
    "data2 = experiment['countCustomEvent']\n",
    "# calculate the t test\n",
    "alpha = 0.05\n",
    "t_stat, df, cv, p = independent_ttest(data1, data2, alpha)\n",
    "print('t=%.3f, df=%d, cv=%.3f, p=%.3f' % (t_stat, df, cv, p))\n",
    "# interpret via critical value\n",
    "if abs(t_stat) <= cv:\n",
    "\tprint('Accept null hypothesis that the means are equal.')\n",
    "else:\n",
    "\tprint('Reject the null hypothesis that the means are equal.')\n",
    "# interpret via p-value\n",
    "if p > alpha:\n",
    "\tprint('Accept null hypothesis that the means are equal.')\n",
    "else:\n",
    "\tprint('Reject the null hypothesis that the means are equal.')"
   ]
  },
  {
   "cell_type": "code",
   "execution_count": null,
   "metadata": {},
   "outputs": [],
   "source": []
  },
  {
   "cell_type": "code",
   "execution_count": null,
   "metadata": {},
   "outputs": [],
   "source": []
  },
  {
   "cell_type": "code",
   "execution_count": null,
   "metadata": {},
   "outputs": [],
   "source": []
  },
  {
   "cell_type": "code",
   "execution_count": null,
   "metadata": {},
   "outputs": [],
   "source": []
  },
  {
   "cell_type": "code",
   "execution_count": null,
   "metadata": {},
   "outputs": [],
   "source": []
  },
  {
   "cell_type": "code",
   "execution_count": null,
   "metadata": {},
   "outputs": [],
   "source": []
  }
 ],
 "metadata": {
  "kernelspec": {
   "display_name": "Python 3",
   "language": "python",
   "name": "python3"
  },
  "language_info": {
   "codemirror_mode": {
    "name": "ipython",
    "version": 3
   },
   "file_extension": ".py",
   "mimetype": "text/x-python",
   "name": "python",
   "nbconvert_exporter": "python",
   "pygments_lexer": "ipython3",
   "version": "3.6.5"
  }
 },
 "nbformat": 4,
 "nbformat_minor": 4
}
