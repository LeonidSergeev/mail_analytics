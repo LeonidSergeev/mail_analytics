{
 "cells": [
  {
   "cell_type": "code",
   "execution_count": null,
   "metadata": {},
   "outputs": [],
   "source": [
    "import pandas as pd\n",
    "import ast\n",
    "import datetime\n",
    "pd.set_option('display.max_row', 1000)\n",
    "data = pd.read_csv(\"/Users/l.sergeev/Downloads/5080418.activities.fb4da8e8687b1c3d88f9a13cb2290927.0.csv\")\n"
   ]
  },
  {
   "cell_type": "code",
   "execution_count": null,
   "metadata": {},
   "outputs": [],
   "source": [
    "new_version_users = data.loc[data.idAppVersionTitle.str.contains(\"5.1\")].reset_index(drop=True)\n",
    "new_version_users.info()"
   ]
  },
  {
   "cell_type": "code",
   "execution_count": null,
   "metadata": {},
   "outputs": [],
   "source": [
    "new_version_users"
   ]
  },
  {
   "cell_type": "code",
   "execution_count": null,
   "metadata": {},
   "outputs": [],
   "source": [
    "users = new_version_users[['customUserId']].reset_index(drop=True).drop_duplicates().dropna()\n"
   ]
  },
  {
   "cell_type": "code",
   "execution_count": null,
   "metadata": {},
   "outputs": [],
   "source": [
    "users"
   ]
  },
  {
   "cell_type": "code",
   "execution_count": null,
   "metadata": {},
   "outputs": [],
   "source": [
    "experiment = pd.read_excel(\"/Users/l.sergeev/Downloads/experiment_new.xlsx\",sheet_name = 'Sheet1')\n"
   ]
  },
  {
   "cell_type": "code",
   "execution_count": null,
   "metadata": {},
   "outputs": [],
   "source": [
    "final_df2 = users.merge(experiment,on='customUserId',how='left').dropna().reset_index()\n",
    "final_df2"
   ]
  },
  {
   "cell_type": "code",
   "execution_count": null,
   "metadata": {},
   "outputs": [],
   "source": []
  },
  {
   "cell_type": "code",
   "execution_count": null,
   "metadata": {},
   "outputs": [],
   "source": [
    "sample_1 = users.sample(100000).reset_index(drop=True)\n",
    "sample_1"
   ]
  },
  {
   "cell_type": "code",
   "execution_count": null,
   "metadata": {},
   "outputs": [],
   "source": [
    "users_for_sample = users.merge(sample_1.drop_duplicates(), on=['customUserId','customUserId'], how='left', indicator=True)\n",
    "users_for_sample\n"
   ]
  },
  {
   "cell_type": "code",
   "execution_count": null,
   "metadata": {},
   "outputs": [],
   "source": [
    "users_for_sample_unique = users_for_sample[users_for_sample['_merge'] == 'left_only']\n",
    "users_for_sample_unique"
   ]
  },
  {
   "cell_type": "code",
   "execution_count": null,
   "metadata": {},
   "outputs": [],
   "source": [
    "users2 = users_for_sample_unique[['customUserId']].reset_index(drop=True).drop_duplicates().dropna()\n",
    "sample_2 = users2.sample(100000).reset_index(drop=True)\n",
    "sample_2"
   ]
  },
  {
   "cell_type": "code",
   "execution_count": null,
   "metadata": {},
   "outputs": [],
   "source": [
    "sample_1.to_csv(\"/Users/l.sergeev/Downloads/sample_new_clusters.csv\")\n",
    "#sample_2.to_csv(\"/Users/l.sergeev/Downloads/sample_2.csv\")\n"
   ]
  },
  {
   "cell_type": "code",
   "execution_count": null,
   "metadata": {},
   "outputs": [],
   "source": []
  }
 ],
 "metadata": {
  "kernelspec": {
   "display_name": "Python 3",
   "language": "python",
   "name": "python3"
  },
  "language_info": {
   "codemirror_mode": {
    "name": "ipython",
    "version": 3
   },
   "file_extension": ".py",
   "mimetype": "text/x-python",
   "name": "python",
   "nbconvert_exporter": "python",
   "pygments_lexer": "ipython3",
   "version": "3.6.5"
  }
 },
 "nbformat": 4,
 "nbformat_minor": 4
}
