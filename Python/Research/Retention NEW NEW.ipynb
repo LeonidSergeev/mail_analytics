{
 "cells": [
  {
   "cell_type": "code",
   "execution_count": null,
   "metadata": {},
   "outputs": [],
   "source": [
    "import pandas as pd\n",
    "import ast\n",
    "import datetime\n",
    "pd.set_option('display.max_row', 1000)\n",
    "data = pd.read_csv(\"/Users/l.sergeev/Downloads/result_ios_Nav_bar_2021-01-25.csv\")\n",
    "data.info()"
   ]
  },
  {
   "cell_type": "code",
   "execution_count": null,
   "metadata": {},
   "outputs": [],
   "source": [
    "data"
   ]
  },
  {
   "cell_type": "code",
   "execution_count": null,
   "metadata": {},
   "outputs": [],
   "source": [
    "df_users = data[['idDevice','dtEvent','tsFirstLaunch','subscription_type']].drop_duplicates().dropna().reset_index(drop=True)\n"
   ]
  },
  {
   "cell_type": "code",
   "execution_count": null,
   "metadata": {},
   "outputs": [],
   "source": [
    "df_users"
   ]
  },
  {
   "cell_type": "code",
   "execution_count": null,
   "metadata": {},
   "outputs": [],
   "source": [
    "df_users['first_date'] = pd.to_datetime(df_users['tsFirstLaunch'],unit='s')"
   ]
  },
  {
   "cell_type": "code",
   "execution_count": null,
   "metadata": {},
   "outputs": [],
   "source": [
    "df_users['first_date'] = df_users['first_date'].dt.date\n"
   ]
  },
  {
   "cell_type": "code",
   "execution_count": null,
   "metadata": {},
   "outputs": [],
   "source": [
    "data_for_ret = df_users[df_users['tsFirstLaunch'] >= 1606780800]\n",
    "data_for_ret"
   ]
  },
  {
   "cell_type": "code",
   "execution_count": null,
   "metadata": {},
   "outputs": [],
   "source": [
    "data_for_ret['dtEvent'] = pd.to_datetime(data_for_ret['dtEvent'])\n",
    "data_for_ret['first_date'] = pd.to_datetime(data_for_ret['first_date'])\n",
    "\n",
    "data_for_ret"
   ]
  },
  {
   "cell_type": "code",
   "execution_count": null,
   "metadata": {},
   "outputs": [],
   "source": [
    "data_for_ret['diff'] = (data_for_ret['dtEvent'] - data_for_ret['first_date']).dt.days\n",
    "data_for_ret"
   ]
  },
  {
   "cell_type": "code",
   "execution_count": null,
   "metadata": {},
   "outputs": [],
   "source": [
    "data_for_ret_group = data_for_ret.groupby(['diff','first_date','subscription_type'])['idDevice'].nunique().reset_index()\n",
    "data_for_ret_group"
   ]
  },
  {
   "cell_type": "code",
   "execution_count": null,
   "metadata": {},
   "outputs": [],
   "source": [
    "data_for_ret_group.to_csv(\"/Users/l.sergeev/Downloads/data_for_ret_group_ios.csv\")"
   ]
  },
  {
   "cell_type": "code",
   "execution_count": null,
   "metadata": {},
   "outputs": [],
   "source": []
  },
  {
   "cell_type": "code",
   "execution_count": null,
   "metadata": {},
   "outputs": [],
   "source": [
    "retention_0 = data_for_ret[(data_for_ret['diff'] == 0)]\n",
    "retention_0"
   ]
  },
  {
   "cell_type": "code",
   "execution_count": null,
   "metadata": {},
   "outputs": [],
   "source": [
    "retention_0_group = retention_0.groupby(['diff','first_date','subscription_type'])['idDevice'].nunique().reset_index()"
   ]
  },
  {
   "cell_type": "code",
   "execution_count": null,
   "metadata": {},
   "outputs": [],
   "source": [
    "retention_7d = data_for_ret[(data_for_ret['diff'] >= 1) & (data_for_ret['diff'] <= 30)]\n",
    "retention_7d"
   ]
  },
  {
   "cell_type": "code",
   "execution_count": null,
   "metadata": {},
   "outputs": [],
   "source": [
    "retention_7d_group = retention_7d.groupby(['first_date','subscription_type'])['idDevice'].nunique().reset_index()\n",
    "retention_7d_group"
   ]
  },
  {
   "cell_type": "code",
   "execution_count": null,
   "metadata": {},
   "outputs": [],
   "source": []
  },
  {
   "cell_type": "code",
   "execution_count": null,
   "metadata": {},
   "outputs": [],
   "source": [
    "data_for_ret"
   ]
  },
  {
   "cell_type": "code",
   "execution_count": null,
   "metadata": {},
   "outputs": [],
   "source": [
    "data_for_ret_active = data_for_ret[['dtEvent','idDevice','first_date','subscription_type']][data_for_ret['subscription_type'] == 'active']\n",
    "data_for_ret_active"
   ]
  },
  {
   "cell_type": "code",
   "execution_count": null,
   "metadata": {},
   "outputs": [],
   "source": [
    "data_for_ret_active_group = data_for_ret_active.groupby(['dtEvent','first_date'])['idDevice'].nunique().reset_index()\n",
    "data_for_ret_active_group"
   ]
  },
  {
   "cell_type": "code",
   "execution_count": null,
   "metadata": {},
   "outputs": [],
   "source": [
    "data_for_ret_active_group.to_csv(\"/Users/l.sergeev/Downloads/data_for_ret_active_group.csv\")"
   ]
  },
  {
   "cell_type": "code",
   "execution_count": null,
   "metadata": {},
   "outputs": [],
   "source": [
    "#data_for_ret_active_base = data_for_ret_active.groupby(['first_date'])['idDevice'].nunique().reset_index()\n",
    "#data_for_ret_active_base"
   ]
  },
  {
   "cell_type": "code",
   "execution_count": null,
   "metadata": {},
   "outputs": [],
   "source": [
    "data1 = pd.read_csv(\"/Users/l.sergeev/Downloads/3551648.customEvents.e0dc3e272b9ccec99ca801c65956996d.0.csv\")\n",
    "data2 = pd.read_csv(\"/Users/l.sergeev/Downloads/3551648.customEvents.d8d97de16a370d7aaecd6e51829cdbaf.1.csv\")\n",
    "\n"
   ]
  },
  {
   "cell_type": "code",
   "execution_count": null,
   "metadata": {},
   "outputs": [],
   "source": [
    "data1_clean = data1.drop_duplicates().dropna().reset_index(drop=True)\n",
    "data2_clean = data2.drop_duplicates().dropna().reset_index(drop=True)\n"
   ]
  },
  {
   "cell_type": "code",
   "execution_count": null,
   "metadata": {},
   "outputs": [],
   "source": [
    "data1_clean"
   ]
  },
  {
   "cell_type": "code",
   "execution_count": null,
   "metadata": {},
   "outputs": [],
   "source": [
    "data2_clean"
   ]
  },
  {
   "cell_type": "code",
   "execution_count": null,
   "metadata": {},
   "outputs": [],
   "source": [
    "new_version_users_data1 = data1_clean.loc[data1_clean.idAppVersionTitle.str.contains(\"5.0\")].reset_index(drop=True)\n",
    "new_version_users_data2 = data2_clean.loc[data2_clean.idAppVersionTitle.str.contains(\"5.0\")].reset_index(drop=True)\n"
   ]
  },
  {
   "cell_type": "code",
   "execution_count": null,
   "metadata": {},
   "outputs": [],
   "source": [
    "new_version_users_data1"
   ]
  },
  {
   "cell_type": "code",
   "execution_count": null,
   "metadata": {},
   "outputs": [],
   "source": [
    "new_version_users_data2"
   ]
  },
  {
   "cell_type": "code",
   "execution_count": null,
   "metadata": {},
   "outputs": [],
   "source": [
    "frames = [new_version_users_data1, new_version_users_data2]\n",
    "result = pd.concat(frames)"
   ]
  },
  {
   "cell_type": "code",
   "execution_count": null,
   "metadata": {},
   "outputs": [],
   "source": [
    "def event_parser(df):\n",
    "    names = df['params.name'][0]\n",
    "    names = ast.literal_eval(names)\n",
    "    df['params.value'] = df['params.value'].astype(str).apply(lambda x: ast.literal_eval(x))\n",
    "    df1 = pd.DataFrame(df[\"params.value\"].to_list(), columns=names)\n",
    "    df2 = df.join(df1)\n",
    "    return df2"
   ]
  },
  {
   "cell_type": "code",
   "execution_count": null,
   "metadata": {},
   "outputs": [],
   "source": [
    "result_parsed = event_parser(result.head(10000000))"
   ]
  },
  {
   "cell_type": "code",
   "execution_count": null,
   "metadata": {},
   "outputs": [],
   "source": [
    "result"
   ]
  },
  {
   "cell_type": "code",
   "execution_count": null,
   "metadata": {},
   "outputs": [],
   "source": [
    "result_5_0_1 = result.loc[result.idAppVersionTitle.str.contains(\"5.0.1\")].reset_index(drop=True)\n"
   ]
  },
  {
   "cell_type": "code",
   "execution_count": null,
   "metadata": {},
   "outputs": [],
   "source": [
    "result_parsed = event_parser(result_5_0_1)"
   ]
  },
  {
   "cell_type": "code",
   "execution_count": null,
   "metadata": {},
   "outputs": [],
   "source": [
    "result_parsed"
   ]
  },
  {
   "cell_type": "code",
   "execution_count": null,
   "metadata": {},
   "outputs": [],
   "source": [
    "df_users_iOS = result_parsed[['idDevice','dtEvent','tsFirstLaunch','idAppVersionTitle','subscription_type']].drop_duplicates().dropna().reset_index(drop=True)\n"
   ]
  },
  {
   "cell_type": "code",
   "execution_count": null,
   "metadata": {},
   "outputs": [],
   "source": [
    "df_users_iOS['platform'] = 'iOS'\n",
    "df_users_iOS"
   ]
  },
  {
   "cell_type": "code",
   "execution_count": null,
   "metadata": {},
   "outputs": [],
   "source": [
    "df_users_android = data[['idDevice','dtEvent','tsFirstLaunch','idAppVersionTitle','subscription_type']].drop_duplicates().dropna().reset_index(drop=True)\n",
    "df_users_android['platform'] = 'Android'\n",
    "df_users_android"
   ]
  },
  {
   "cell_type": "code",
   "execution_count": null,
   "metadata": {},
   "outputs": [],
   "source": [
    "frames2 = [df_users_iOS, df_users_android]\n",
    "df_users_all_platforms = pd.concat(frames2)"
   ]
  },
  {
   "cell_type": "code",
   "execution_count": null,
   "metadata": {},
   "outputs": [],
   "source": [
    "df_users_all_platforms"
   ]
  },
  {
   "cell_type": "code",
   "execution_count": null,
   "metadata": {},
   "outputs": [],
   "source": [
    "df_users_all_platforms['first_date'] = pd.to_datetime(df_users_all_platforms['tsFirstLaunch'],unit='s')\n",
    "df_users_all_platforms['first_date'] = df_users_all_platforms['first_date'].dt.date\n",
    "df_users_all_platforms"
   ]
  },
  {
   "cell_type": "code",
   "execution_count": null,
   "metadata": {},
   "outputs": [],
   "source": [
    "data_for_ret_active = df_users_all_platforms[['dtEvent','idDevice','first_date','subscription_type']][df_users_all_platforms['subscription_type'] == 'active']\n",
    "data_for_ret_active"
   ]
  },
  {
   "cell_type": "code",
   "execution_count": null,
   "metadata": {},
   "outputs": [],
   "source": [
    "data_for_ret_active_group = data_for_ret_active.groupby(['dtEvent','first_date'])['idDevice'].nunique().reset_index()\n",
    "data_for_ret_active_group"
   ]
  },
  {
   "cell_type": "code",
   "execution_count": null,
   "metadata": {},
   "outputs": [],
   "source": [
    "data_for_ret_active_group.to_csv(\"/Users/l.sergeev/Downloads/data_for_ret_active_group_all.csv\")"
   ]
  },
  {
   "cell_type": "code",
   "execution_count": null,
   "metadata": {},
   "outputs": [],
   "source": []
  },
  {
   "cell_type": "code",
   "execution_count": null,
   "metadata": {},
   "outputs": [],
   "source": [
    "data_for_ret_free = df_users_all_platforms[['dtEvent','idDevice','first_date','subscription_type']][df_users_all_platforms['subscription_type'] == 'none']\n",
    "data_for_ret_free"
   ]
  },
  {
   "cell_type": "code",
   "execution_count": null,
   "metadata": {},
   "outputs": [],
   "source": [
    "data_for_ret_free_group = data_for_ret_free.groupby(['dtEvent','first_date'])['idDevice'].nunique().reset_index()\n",
    "data_for_ret_free_group"
   ]
  },
  {
   "cell_type": "code",
   "execution_count": null,
   "metadata": {},
   "outputs": [],
   "source": [
    "data_for_ret_free_group.to_csv(\"/Users/l.sergeev/Downloads/data_for_ret_free_group.csv\")"
   ]
  },
  {
   "cell_type": "code",
   "execution_count": null,
   "metadata": {},
   "outputs": [],
   "source": [
    "df_users_ret_all_platforms = df_users_all_platforms.groupby(['dtEvent','first_date','platform'])['idDevice'].nunique().reset_index()\n",
    "df_users_ret_all_platforms"
   ]
  },
  {
   "cell_type": "code",
   "execution_count": null,
   "metadata": {},
   "outputs": [],
   "source": [
    "df_users_ret_all_platforms.to_csv(\"/Users/l.sergeev/Downloads/df_users_ret_all_platforms_w_platform.csv\")"
   ]
  },
  {
   "cell_type": "code",
   "execution_count": null,
   "metadata": {},
   "outputs": [],
   "source": []
  },
  {
   "cell_type": "code",
   "execution_count": null,
   "metadata": {},
   "outputs": [],
   "source": []
  },
  {
   "cell_type": "code",
   "execution_count": null,
   "metadata": {},
   "outputs": [],
   "source": [
    "data_for_ret_active_ts = df_users_all_platforms[['dtEvent','idDevice','first_date','subscription_type','tsFirstLaunch']][df_users_all_platforms['subscription_type'] != 'expired']\n",
    "data_for_ret_active_ts"
   ]
  },
  {
   "cell_type": "code",
   "execution_count": null,
   "metadata": {},
   "outputs": [],
   "source": [
    "test = data_for_ret_active_ts[data_for_ret_active_ts['tsFirstLaunch'] >= 1607644800]\n",
    "test"
   ]
  },
  {
   "cell_type": "code",
   "execution_count": null,
   "metadata": {},
   "outputs": [],
   "source": []
  },
  {
   "cell_type": "code",
   "execution_count": null,
   "metadata": {},
   "outputs": [],
   "source": [
    "test.to_csv(\"/Users/l.sergeev/Downloads/test_date.csv\")"
   ]
  },
  {
   "cell_type": "code",
   "execution_count": null,
   "metadata": {},
   "outputs": [],
   "source": [
    "test2 = pd.read_csv(\"/Users/l.sergeev/Downloads/test_date.csv\")\n",
    "test2"
   ]
  },
  {
   "cell_type": "code",
   "execution_count": null,
   "metadata": {},
   "outputs": [],
   "source": [
    "test2['dtEvent'] = pd.to_datetime(test2['dtEvent'])\n",
    "test2['first_date'] = pd.to_datetime(test2['first_date'])\n",
    "\n",
    "test2"
   ]
  },
  {
   "cell_type": "code",
   "execution_count": null,
   "metadata": {},
   "outputs": [],
   "source": [
    "test2['diff'] = (test2['dtEvent'] - test2['first_date']).dt.days\n"
   ]
  },
  {
   "cell_type": "code",
   "execution_count": null,
   "metadata": {},
   "outputs": [],
   "source": [
    "test2"
   ]
  },
  {
   "cell_type": "code",
   "execution_count": null,
   "metadata": {},
   "outputs": [],
   "source": []
  },
  {
   "cell_type": "code",
   "execution_count": null,
   "metadata": {},
   "outputs": [],
   "source": [
    "test2_below7 = test2[(test2['diff'] >= 1) & (test2['diff'] <= 30)]\n",
    "test2_below7"
   ]
  },
  {
   "cell_type": "code",
   "execution_count": null,
   "metadata": {},
   "outputs": [],
   "source": [
    "test2_active_group = test2_below7.groupby(['first_date'])['idDevice'].nunique().reset_index()\n",
    "test2_active_group"
   ]
  },
  {
   "cell_type": "code",
   "execution_count": null,
   "metadata": {},
   "outputs": [],
   "source": [
    "test2_active_group.to_csv(\"/Users/l.sergeev/Downloads/test2_active_group.csv\")"
   ]
  },
  {
   "cell_type": "code",
   "execution_count": null,
   "metadata": {},
   "outputs": [],
   "source": []
  }
 ],
 "metadata": {
  "kernelspec": {
   "display_name": "Python 3",
   "language": "python",
   "name": "python3"
  },
  "language_info": {
   "codemirror_mode": {
    "name": "ipython",
    "version": 3
   },
   "file_extension": ".py",
   "mimetype": "text/x-python",
   "name": "python",
   "nbconvert_exporter": "python",
   "pygments_lexer": "ipython3",
   "version": "3.6.5"
  }
 },
 "nbformat": 4,
 "nbformat_minor": 4
}
