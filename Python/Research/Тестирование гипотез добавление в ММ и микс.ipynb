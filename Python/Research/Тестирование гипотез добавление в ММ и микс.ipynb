{
 "cells": [
  {
   "cell_type": "code",
   "execution_count": null,
   "metadata": {},
   "outputs": [],
   "source": [
    "import pandas as pd\n",
    "import ast\n",
    "import datetime\n",
    "pd.set_option('display.max_row', 1000)\n",
    "data = pd.read_csv(\"/Users/l.sergeev/Downloads/3495000.customEvents.c835e361950bd65959934461d11b9956.0.csv\")\n",
    "data.info()"
   ]
  },
  {
   "cell_type": "code",
   "execution_count": null,
   "metadata": {},
   "outputs": [],
   "source": [
    "new_version_users = data.loc[data.idAppVersionTitle.str.contains(\"5.1\")].reset_index(drop=True)\n",
    "new_version_users"
   ]
  },
  {
   "cell_type": "code",
   "execution_count": null,
   "metadata": {},
   "outputs": [],
   "source": [
    "def event_parser(df):\n",
    "    names = df['params.name'][0]\n",
    "    names = ast.literal_eval(names)\n",
    "    df['params.value'] = df['params.value'].astype(str).apply(lambda x: ast.literal_eval(x))\n",
    "    df1 = pd.DataFrame(df[\"params.value\"].to_list(), columns=names)\n",
    "    df2 = df.join(df1)\n",
    "    return df2"
   ]
  },
  {
   "cell_type": "code",
   "execution_count": null,
   "metadata": {},
   "outputs": [],
   "source": [
    "new_version_users_add_parsed = event_parser(new_version_users)"
   ]
  },
  {
   "cell_type": "code",
   "execution_count": null,
   "metadata": {},
   "outputs": [],
   "source": [
    "new_version_users_add_parsed"
   ]
  },
  {
   "cell_type": "code",
   "execution_count": null,
   "metadata": {},
   "outputs": [],
   "source": [
    "users_add_track = new_version_users_add_parsed.groupby(['customUserId','dtEvent','actions','type','subscription_type'])['countCustomEvent'].sum().reset_index()\n",
    "users_add_track"
   ]
  },
  {
   "cell_type": "code",
   "execution_count": null,
   "metadata": {},
   "outputs": [],
   "source": [
    "users_add_track_track_only = users_add_track[users_add_track['type'] == 'track']\n",
    "users_add_track_track_only"
   ]
  },
  {
   "cell_type": "code",
   "execution_count": null,
   "metadata": {},
   "outputs": [],
   "source": []
  },
  {
   "cell_type": "code",
   "execution_count": null,
   "metadata": {},
   "outputs": [],
   "source": []
  },
  {
   "cell_type": "code",
   "execution_count": null,
   "metadata": {},
   "outputs": [],
   "source": [
    "users_likes = users_add_track_track_only[(users_add_track_track_only['actions'] == 'like') & (users_add_track_track_only['subscription_type'] == 'active' )]\n",
    "users_likes = users_likes.groupby(['customUserId','actions'])['countCustomEvent'].sum().reset_index()\n",
    "users_likes.columns = ['customUserId', 'like','liked_items']\n",
    "users_likes"
   ]
  },
  {
   "cell_type": "code",
   "execution_count": null,
   "metadata": {},
   "outputs": [],
   "source": [
    "users_cache = users_add_track_track_only[(users_add_track_track_only['actions'] == 'cache') & (users_add_track_track_only['subscription_type'] == 'active' )]\n",
    "users_cache = users_cache.groupby(['customUserId','actions'])['countCustomEvent'].sum().reset_index()\n",
    "users_cache.columns = ['customUserId', 'cache','cached_items']\n",
    "users_cache"
   ]
  },
  {
   "cell_type": "code",
   "execution_count": null,
   "metadata": {},
   "outputs": [],
   "source": [
    "users_likes.drop_duplicates()"
   ]
  },
  {
   "cell_type": "code",
   "execution_count": null,
   "metadata": {},
   "outputs": [],
   "source": [
    "_____________________________"
   ]
  },
  {
   "cell_type": "code",
   "execution_count": null,
   "metadata": {},
   "outputs": [],
   "source": [
    "data_tracks = pd.read_csv(\"/Users/l.sergeev/Downloads/result_Play_track_to_end_2021-01-18.csv\")\n"
   ]
  },
  {
   "cell_type": "code",
   "execution_count": null,
   "metadata": {
    "scrolled": true
   },
   "outputs": [],
   "source": [
    "data_tracks"
   ]
  },
  {
   "cell_type": "code",
   "execution_count": null,
   "metadata": {},
   "outputs": [],
   "source": [
    "data_tracks_w_likes = data_tracks.merge(users_likes,on='customUserId',how='left')\n",
    "data_tracks_w_likes"
   ]
  },
  {
   "cell_type": "code",
   "execution_count": null,
   "metadata": {},
   "outputs": [],
   "source": [
    "data_tracks_w_likes['like'] = data_tracks_w_likes['like'].fillna('Not')\n",
    "data_tracks_w_likes"
   ]
  },
  {
   "cell_type": "code",
   "execution_count": null,
   "metadata": {},
   "outputs": [],
   "source": [
    "data_tracks_w_cache = data_tracks_w_likes.merge(users_cache,on='customUserId',how='left')\n",
    "data_tracks_w_cache['cache'] = data_tracks_w_cache['cache'].fillna('Not')\n",
    "\n"
   ]
  },
  {
   "cell_type": "code",
   "execution_count": null,
   "metadata": {},
   "outputs": [],
   "source": [
    "data_tracks_w_cache"
   ]
  },
  {
   "cell_type": "code",
   "execution_count": null,
   "metadata": {},
   "outputs": [],
   "source": [
    "data_tracks_w_cache = data_tracks_w_cache[data_tracks_w_cache['subscription_type'] == 'active']\n",
    "data_tracks_w_cache"
   ]
  },
  {
   "cell_type": "code",
   "execution_count": null,
   "metadata": {},
   "outputs": [],
   "source": [
    "data_tracks_w_cache_grouped = data_tracks_w_cache.groupby(['customUserId','cache','progress','like'])['countCustomEvent'].sum().reset_index()\n",
    "data_tracks_w_cache_grouped['time'] = data_tracks_w_cache_grouped['progress'].astype(int) / 100 * 205 * data_tracks_w_cache_grouped['countCustomEvent']\n",
    "data_tracks_w_cache_grouped"
   ]
  },
  {
   "cell_type": "code",
   "execution_count": null,
   "metadata": {},
   "outputs": [],
   "source": [
    "#data_tracks_w_cache_grouped_not = data_tracks_w_cache_grouped[data_tracks_w_cache_grouped['cache'] == 'cache']\n",
    "data_tracks_w_cache_grouped_not = data_tracks_w_cache_grouped[(data_tracks_w_cache_grouped['like'] == 'like') & (data_tracks_w_cache_grouped['cache'] == 'cache' )]\n",
    "tracks = data_tracks_w_cache_grouped_not.countCustomEvent.sum()\n",
    "time = data_tracks_w_cache_grouped_not.time.sum()\n",
    "users = data_tracks_w_cache_grouped_not.customUserId.nunique()\n",
    "total = tracks / users\n",
    "total2 = time / users\n",
    "print(total)\n",
    "print(total2)\n",
    "print(users)\n"
   ]
  },
  {
   "cell_type": "code",
   "execution_count": null,
   "metadata": {},
   "outputs": [],
   "source": [
    "test_wo_null = data_tracks_w_cache_grouped_not[~data_tracks_w_cache_grouped_not[\"customUserId\"].str.contains('null')]\n",
    "test_wo_null\n"
   ]
  },
  {
   "cell_type": "code",
   "execution_count": null,
   "metadata": {},
   "outputs": [],
   "source": [
    "tracks = test_wo_null.countCustomEvent.sum()\n",
    "time = test_wo_null.time.sum()\n",
    "users = test_wo_null.customUserId.nunique()\n",
    "total = tracks / users\n",
    "total2 = time / users\n",
    "print(total)\n",
    "print(total2)\n",
    "print(users)"
   ]
  },
  {
   "cell_type": "code",
   "execution_count": null,
   "metadata": {},
   "outputs": [],
   "source": [
    "test_wo_null_grouped = test_wo_null.groupby(['customUserId'])['countCustomEvent'].sum().reset_index()\n",
    "test_wo_null_grouped"
   ]
  },
  {
   "cell_type": "code",
   "execution_count": null,
   "metadata": {},
   "outputs": [],
   "source": [
    "test_wo_null_grouped.to_csv(\"/Users/l.sergeev/Downloads/test_wo_null_grouped.csv\")"
   ]
  },
  {
   "cell_type": "code",
   "execution_count": null,
   "metadata": {},
   "outputs": [],
   "source": []
  },
  {
   "cell_type": "code",
   "execution_count": null,
   "metadata": {},
   "outputs": [],
   "source": [
    "xe = data_tracks_mix.countCustomEvent.sum()"
   ]
  },
  {
   "cell_type": "code",
   "execution_count": null,
   "metadata": {},
   "outputs": [],
   "source": [
    "ye = data_tracks_mix.customUserId.nunique()"
   ]
  },
  {
   "cell_type": "code",
   "execution_count": null,
   "metadata": {},
   "outputs": [],
   "source": [
    "xe / ye"
   ]
  },
  {
   "cell_type": "code",
   "execution_count": null,
   "metadata": {},
   "outputs": [],
   "source": []
  },
  {
   "cell_type": "code",
   "execution_count": null,
   "metadata": {},
   "outputs": [],
   "source": [
    "___________________________"
   ]
  },
  {
   "cell_type": "code",
   "execution_count": null,
   "metadata": {},
   "outputs": [],
   "source": [
    "data_tracks_subs = data_tracks[data_tracks['subscription_type'] == 'active']\n",
    "data_tracks_subs"
   ]
  },
  {
   "cell_type": "code",
   "execution_count": null,
   "metadata": {},
   "outputs": [],
   "source": [
    "cat = pd.read_excel(\"/Users/l.sergeev/Downloads/cat.xlsx\",sheet_name = 'Sheet1')"
   ]
  },
  {
   "cell_type": "code",
   "execution_count": null,
   "metadata": {},
   "outputs": [],
   "source": [
    "data_tracks_subs_cat = data_tracks_subs.merge(cat,on='from',how='right')\n",
    "data_tracks_subs_cat"
   ]
  },
  {
   "cell_type": "code",
   "execution_count": null,
   "metadata": {},
   "outputs": [],
   "source": [
    "mix_users_df = data_tracks_subs_cat[['customUserId']][data_tracks_subs_cat['normal_title'] == 'Микс']\n",
    "mix_users_df = mix_users_df.drop_duplicates().dropna()\n",
    "mix_users_df['Mix_user'] = 'Mix_user'\n",
    "mix_users_df"
   ]
  },
  {
   "cell_type": "code",
   "execution_count": null,
   "metadata": {},
   "outputs": [],
   "source": [
    "df4_main = data_tracks_subs_cat.merge(mix_users_df,on=['customUserId'],how='left')\n",
    "df4_main = df4_main[df4_main['dtEvent'].notna()]\n",
    "df4_main['Mix_user'] = df4_main['Mix_user'].fillna('Non mix user')\n",
    "df4_main"
   ]
  },
  {
   "cell_type": "code",
   "execution_count": null,
   "metadata": {},
   "outputs": [],
   "source": [
    "data_tracks_mix = df4_main.groupby(['customUserId','Mix_user','progress'])['countCustomEvent'].sum().reset_index()\n",
    "data_tracks_mix['time'] = data_tracks_mix['progress'].astype(int) / 100 * 205 * data_tracks_mix['countCustomEvent']\n",
    "data_tracks_mix"
   ]
  },
  {
   "cell_type": "code",
   "execution_count": null,
   "metadata": {},
   "outputs": [],
   "source": [
    "data_tracks_mix_final = data_tracks_mix[data_tracks_mix['Mix_user'] == 'Non mix user']\n",
    "tracks = data_tracks_mix_final.countCustomEvent.sum()\n",
    "time = data_tracks_mix_final.time.sum()\n",
    "users = data_tracks_mix_final.customUserId.nunique()\n",
    "total = tracks / users\n",
    "total2 = time / users\n",
    "print(total)\n",
    "print(total2)\n",
    "print(users)"
   ]
  },
  {
   "cell_type": "code",
   "execution_count": null,
   "metadata": {},
   "outputs": [],
   "source": []
  }
 ],
 "metadata": {
  "kernelspec": {
   "display_name": "Python 3",
   "language": "python",
   "name": "python3"
  },
  "language_info": {
   "codemirror_mode": {
    "name": "ipython",
    "version": 3
   },
   "file_extension": ".py",
   "mimetype": "text/x-python",
   "name": "python",
   "nbconvert_exporter": "python",
   "pygments_lexer": "ipython3",
   "version": "3.6.5"
  }
 },
 "nbformat": 4,
 "nbformat_minor": 4
}
