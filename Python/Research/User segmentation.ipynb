{
 "cells": [
  {
   "cell_type": "code",
   "execution_count": null,
   "metadata": {},
   "outputs": [],
   "source": [
    "import pandas as pd\n",
    "import ast\n",
    "import datetime\n",
    "pd.set_option('display.max_row', 1000)\n",
    "data = pd.read_csv(\"/Users/l.sergeev/Downloads/2733570.activities.0de556420a991448bdae453d16cc9ead.0.csv\")\n",
    "data.info()"
   ]
  },
  {
   "cell_type": "code",
   "execution_count": null,
   "metadata": {},
   "outputs": [],
   "source": [
    "#ОСНОВНОЙ ДАТА ФРЕЙМ СО ВСЕМИ ЮЗЕРАМИ НОВОЙ ВЕРСИИ ПРИЛОЖЕНИЯ ПО ДНЯМ"
   ]
  },
  {
   "cell_type": "code",
   "execution_count": null,
   "metadata": {},
   "outputs": [],
   "source": [
    "new_version_users = data.loc[data.idAppVersionTitle.str.contains(\"5.\")].reset_index(drop=True)"
   ]
  },
  {
   "cell_type": "code",
   "execution_count": null,
   "metadata": {},
   "outputs": [],
   "source": [
    "df_users = new_version_users[['customUserId','dtEvent']].drop_duplicates().dropna().reset_index(drop=True)"
   ]
  },
  {
   "cell_type": "code",
   "execution_count": null,
   "metadata": {},
   "outputs": [],
   "source": [
    "df_users.info()"
   ]
  },
  {
   "cell_type": "code",
   "execution_count": null,
   "metadata": {},
   "outputs": [],
   "source": []
  },
  {
   "cell_type": "code",
   "execution_count": null,
   "metadata": {},
   "outputs": [],
   "source": [
    "#ДАТА ФРЕЙМ СО ВСЕМИ PLAY_TRACKS НОВОЙ ВЕРСИИ"
   ]
  },
  {
   "cell_type": "code",
   "execution_count": null,
   "metadata": {},
   "outputs": [],
   "source": [
    "data_tracks = pd.read_csv(\"/Users/l.sergeev/Downloads/2735459.customEvents.885c3543a96a86cf74c314f4cca2ea64.0.csv\")"
   ]
  },
  {
   "cell_type": "code",
   "execution_count": null,
   "metadata": {},
   "outputs": [],
   "source": [
    "cat = pd.read_excel(\"/Users/l.sergeev/Downloads/cat.xlsx\",sheet_name = 'Sheet1')"
   ]
  },
  {
   "cell_type": "code",
   "execution_count": null,
   "metadata": {},
   "outputs": [],
   "source": [
    "new_version_users_tracks = data_tracks.loc[data_tracks.idAppVersionTitle.str.contains(\"5.\")].reset_index(drop=True)"
   ]
  },
  {
   "cell_type": "code",
   "execution_count": null,
   "metadata": {},
   "outputs": [],
   "source": [
    "def event_parser(df):\n",
    "    names = df['params.name'][0]\n",
    "    names = ast.literal_eval(names)\n",
    "    df['params.value'] = df['params.value'].astype(str).apply(lambda x: ast.literal_eval(x))\n",
    "    df1 = pd.DataFrame(df[\"params.value\"].to_list(), columns=names)\n",
    "    df2 = df.join(df1)\n",
    "    return df2"
   ]
  },
  {
   "cell_type": "code",
   "execution_count": null,
   "metadata": {},
   "outputs": [],
   "source": [
    "new_version_users_tracks_parsed = event_parser(new_version_users_tracks)"
   ]
  },
  {
   "cell_type": "code",
   "execution_count": null,
   "metadata": {},
   "outputs": [],
   "source": [
    "new_version_users_tracks_parsed_cat = new_version_users_tracks_parsed.merge(cat,on='from',how='left')"
   ]
  },
  {
   "cell_type": "code",
   "execution_count": null,
   "metadata": {},
   "outputs": [],
   "source": [
    "new_version_users_tracks_parsed_cat.info()"
   ]
  },
  {
   "cell_type": "code",
   "execution_count": null,
   "metadata": {},
   "outputs": [],
   "source": []
  },
  {
   "cell_type": "code",
   "execution_count": null,
   "metadata": {},
   "outputs": [],
   "source": [
    "#ЮЗЕРЫ, КОТОРЫЕ СЛУШАЛИ ММ"
   ]
  },
  {
   "cell_type": "code",
   "execution_count": null,
   "metadata": {},
   "outputs": [],
   "source": [
    "df_users_my_music = new_version_users_tracks_parsed_cat.groupby(['customUserId','dtEvent','normal_title'])['countCustomEvent'].sum().reset_index()\n",
    "df_users_my_music.head()\n"
   ]
  },
  {
   "cell_type": "code",
   "execution_count": null,
   "metadata": {},
   "outputs": [],
   "source": [
    "df_users_totals = new_version_users_tracks_parsed_cat.groupby(['customUserId','dtEvent'])['countCustomEvent'].sum().reset_index()\n",
    "\n"
   ]
  },
  {
   "cell_type": "code",
   "execution_count": null,
   "metadata": {},
   "outputs": [],
   "source": [
    "df_users_my_music_w_totals = df_users_my_music.merge(df_users_totals,on=['dtEvent','customUserId'],how='left')\n",
    "df_users_my_music_w_totals"
   ]
  },
  {
   "cell_type": "code",
   "execution_count": null,
   "metadata": {},
   "outputs": [],
   "source": [
    "df_users_my_music_w_totals['percent'] = (df_users_my_music_w_totals['countCustomEvent_x'] / df_users_my_music_w_totals['countCustomEvent_y'] * 100).round(2)\n"
   ]
  },
  {
   "cell_type": "code",
   "execution_count": null,
   "metadata": {},
   "outputs": [],
   "source": [
    "df_heavy_mm_users = df_users_my_music_w_totals[[\"dtEvent\",\"customUserId\",'normal_title','percent']][df_users_my_music_w_totals['normal_title'] == 'Моя Музыка']\n",
    "df_heavy_mm_users.head()\n",
    "\n"
   ]
  },
  {
   "cell_type": "code",
   "execution_count": null,
   "metadata": {},
   "outputs": [],
   "source": [
    "df_heavy_mm_users_70 = df_heavy_mm_users[[\"customUserId\",'dtEvent']][df_heavy_mm_users['percent'] >= 70].drop_duplicates().dropna().reset_index(drop=True)\n",
    "df_heavy_mm_users_70['Heavy_my_music'] = 'Heavy_my_music'\n",
    "\n",
    "df_heavy_mm_users_70\n"
   ]
  },
  {
   "cell_type": "code",
   "execution_count": null,
   "metadata": {},
   "outputs": [],
   "source": [
    "df_users_labels = df_users.merge(df_heavy_mm_users_70,on=['dtEvent','customUserId'],how='left')\n",
    "df_users_labels['Heavy_my_music'] = df_users_labels['Heavy_my_music'].fillna('Not')\n",
    "\n",
    "df_users_labels"
   ]
  },
  {
   "cell_type": "code",
   "execution_count": null,
   "metadata": {},
   "outputs": [],
   "source": []
  },
  {
   "cell_type": "code",
   "execution_count": null,
   "metadata": {},
   "outputs": [],
   "source": [
    "#ЮЗЕРЫ, КОТОРЫЕ СЛУШАЛИ МИКС"
   ]
  },
  {
   "cell_type": "code",
   "execution_count": null,
   "metadata": {},
   "outputs": [],
   "source": [
    "df__mix_users = df_users_my_music_w_totals[[\"dtEvent\",\"customUserId\"]][df_users_my_music_w_totals['normal_title'] == 'Микс']\n",
    "df__mix_users = df__mix_users.drop_duplicates().dropna().reset_index(drop=True)\n",
    "df__mix_users['Mix_users'] = 'Mix_users'\n",
    "\n",
    "df__mix_users\n"
   ]
  },
  {
   "cell_type": "code",
   "execution_count": null,
   "metadata": {},
   "outputs": [],
   "source": [
    "df_users_labels = df_users_labels.merge(df__mix_users,on=['dtEvent','customUserId'],how='left')\n",
    "df_users_labels['Mix_users'] = df_users_labels['Mix_users'].fillna('Not')\n"
   ]
  },
  {
   "cell_type": "code",
   "execution_count": null,
   "metadata": {},
   "outputs": [],
   "source": [
    "df_users_labels.head(20)"
   ]
  },
  {
   "cell_type": "code",
   "execution_count": null,
   "metadata": {},
   "outputs": [],
   "source": [
    "#df_users_my_music_w_totals.loc[df_users_my_music_w_totals['customUserId'] == 'vk164934334']"
   ]
  },
  {
   "cell_type": "code",
   "execution_count": null,
   "metadata": {},
   "outputs": [],
   "source": [
    "#df_users_labels.loc[df_users_labels['customUserId'] == 'vk164934334']"
   ]
  },
  {
   "cell_type": "code",
   "execution_count": null,
   "metadata": {},
   "outputs": [],
   "source": []
  },
  {
   "cell_type": "code",
   "execution_count": null,
   "metadata": {},
   "outputs": [],
   "source": [
    "#СТРИММИНГ"
   ]
  },
  {
   "cell_type": "code",
   "execution_count": null,
   "metadata": {},
   "outputs": [],
   "source": [
    "df_users_streaming = new_version_users_tracks_parsed_cat.groupby(['customUserId','dtEvent','method'])['countCustomEvent'].sum().reset_index()\n"
   ]
  },
  {
   "cell_type": "code",
   "execution_count": null,
   "metadata": {},
   "outputs": [],
   "source": [
    "df_users_streaming.head()"
   ]
  },
  {
   "cell_type": "code",
   "execution_count": null,
   "metadata": {},
   "outputs": [],
   "source": [
    "df_users_streaming_totals = new_version_users_tracks_parsed_cat.groupby(['customUserId','dtEvent'])['countCustomEvent'].sum().reset_index()\n"
   ]
  },
  {
   "cell_type": "code",
   "execution_count": null,
   "metadata": {},
   "outputs": [],
   "source": [
    "df_users_streaming_w_totals = df_users_streaming.merge(df_users_streaming_totals,on=['dtEvent','customUserId'],how='left')\n",
    "df_users_streaming_w_totals"
   ]
  },
  {
   "cell_type": "code",
   "execution_count": null,
   "metadata": {},
   "outputs": [],
   "source": [
    "df_users_streaming_w_totals['percent'] = (df_users_streaming_w_totals['countCustomEvent_x'] / df_users_streaming_w_totals['countCustomEvent_y'] * 100).round(2)\n",
    "df_users_streaming_w_totals\n"
   ]
  },
  {
   "cell_type": "code",
   "execution_count": null,
   "metadata": {},
   "outputs": [],
   "source": [
    "df_users_streaming_online = df_users_streaming_w_totals[[\"dtEvent\",\"customUserId\",'method','percent']][df_users_streaming_w_totals['method'] == 'online']\n"
   ]
  },
  {
   "cell_type": "code",
   "execution_count": null,
   "metadata": {},
   "outputs": [],
   "source": [
    "df_users_streaming_online_70 = df_users_streaming_online[[\"customUserId\",'dtEvent']][df_users_streaming_online['percent'] >= 70].drop_duplicates().dropna().reset_index(drop=True)\n",
    "df_users_streaming_online_70['Only_streaming_70'] = 'Only_streaming_70'\n",
    "\n",
    "df_users_streaming_online_70\n"
   ]
  },
  {
   "cell_type": "code",
   "execution_count": null,
   "metadata": {},
   "outputs": [],
   "source": [
    "df_users_labels = df_users_labels.merge(df_users_streaming_online_70,on=['dtEvent','customUserId'],how='left')\n",
    "df_users_labels['Only_streaming_70'] = df_users_labels['Only_streaming_70'].fillna('Not')\n",
    "df_users_labels"
   ]
  },
  {
   "cell_type": "code",
   "execution_count": null,
   "metadata": {},
   "outputs": [],
   "source": []
  },
  {
   "cell_type": "code",
   "execution_count": null,
   "metadata": {},
   "outputs": [],
   "source": [
    "df_users_streaming_online_10 = df_users_streaming_online[[\"customUserId\",'dtEvent']][df_users_streaming_online['percent'] >= 10].drop_duplicates().dropna().reset_index(drop=True)\n",
    "df_users_streaming_online_10['Only_streaming_10'] = 'Only_streaming_10'\n",
    "\n",
    "df_users_streaming_online_10"
   ]
  },
  {
   "cell_type": "code",
   "execution_count": null,
   "metadata": {},
   "outputs": [],
   "source": [
    "df_users_labels = df_users_labels.merge(df_users_streaming_online_10,on=['dtEvent','customUserId'],how='left')\n",
    "df_users_labels['Only_streaming_10'] = df_users_labels['Only_streaming_10'].fillna('Not')\n",
    "df_users_labels"
   ]
  },
  {
   "cell_type": "code",
   "execution_count": null,
   "metadata": {},
   "outputs": [],
   "source": []
  },
  {
   "cell_type": "code",
   "execution_count": null,
   "metadata": {},
   "outputs": [],
   "source": [
    "#КЭШ"
   ]
  },
  {
   "cell_type": "code",
   "execution_count": null,
   "metadata": {},
   "outputs": [],
   "source": [
    "df_users_streaming_cache = df_users_streaming_w_totals[[\"dtEvent\",\"customUserId\",'method','percent']][df_users_streaming_w_totals['method'] == 'cache']\n"
   ]
  },
  {
   "cell_type": "code",
   "execution_count": null,
   "metadata": {},
   "outputs": [],
   "source": [
    "df_users_cache = df_users_streaming_cache[[\"customUserId\",'dtEvent']][df_users_streaming_cache['percent'] >= 50].drop_duplicates().dropna().reset_index(drop=True)\n",
    "df_users_cache['Cache_50_new'] = 'Cache_50_new'\n"
   ]
  },
  {
   "cell_type": "code",
   "execution_count": null,
   "metadata": {},
   "outputs": [],
   "source": []
  },
  {
   "cell_type": "code",
   "execution_count": null,
   "metadata": {},
   "outputs": [],
   "source": [
    "df_users_labels = df_users_labels.merge(df_users_cache,on=['dtEvent','customUserId'],how='left')\n",
    "df_users_labels['Cache_50_new'] = df_users_labels['Cache_50_new'].fillna('Not')\n",
    "df_users_labels"
   ]
  },
  {
   "cell_type": "code",
   "execution_count": null,
   "metadata": {},
   "outputs": [],
   "source": []
  },
  {
   "cell_type": "code",
   "execution_count": null,
   "metadata": {},
   "outputs": [],
   "source": [
    "#ДОБАВЛЕНИЯ В ММ"
   ]
  },
  {
   "cell_type": "code",
   "execution_count": null,
   "metadata": {},
   "outputs": [],
   "source": [
    "data_add_to_mm = pd.read_csv(\"/Users/l.sergeev/Downloads/2732690.customEvents.29814639a0448edfe41560c2240b8508.0.csv\")"
   ]
  },
  {
   "cell_type": "code",
   "execution_count": null,
   "metadata": {},
   "outputs": [],
   "source": [
    "new_version_users_add_to_mm = data_add_to_mm.loc[data_add_to_mm.idAppVersionTitle.str.contains(\"5.\")].reset_index(drop=True)\n",
    "new_version_users_add_to_mm\n",
    "\n"
   ]
  },
  {
   "cell_type": "code",
   "execution_count": null,
   "metadata": {},
   "outputs": [],
   "source": [
    "new_version_users_add_to_mm_parsed = event_parser(new_version_users_add_to_mm)"
   ]
  },
  {
   "cell_type": "code",
   "execution_count": null,
   "metadata": {},
   "outputs": [],
   "source": [
    "new_version_users_add_to_mm_parsed_cat = new_version_users_add_to_mm_parsed.merge(cat,on='from',how='left')"
   ]
  },
  {
   "cell_type": "code",
   "execution_count": null,
   "metadata": {},
   "outputs": [],
   "source": [
    "new_version_users_add_to_mm_parsed_cat"
   ]
  },
  {
   "cell_type": "code",
   "execution_count": null,
   "metadata": {},
   "outputs": [],
   "source": []
  },
  {
   "cell_type": "code",
   "execution_count": null,
   "metadata": {},
   "outputs": [],
   "source": [
    "#ЮЗЕРЫ, КОТОРЫЕ ДОБАВЛЯЛИ ИЗ МИКСА"
   ]
  },
  {
   "cell_type": "code",
   "execution_count": null,
   "metadata": {},
   "outputs": [],
   "source": [
    "df__mix_add_to_mm = new_version_users_add_to_mm_parsed_cat[[\"dtEvent\",\"customUserId\"]][new_version_users_add_to_mm_parsed_cat['normal_title'] == 'Микс']\n",
    "df__mix_add_to_mm = df__mix_add_to_mm.drop_duplicates().dropna().reset_index(drop=True)\n",
    "df__mix_add_to_mm['Add_from_mix'] = 'Add_from_mix'\n",
    "\n",
    "df__mix_add_to_mm"
   ]
  },
  {
   "cell_type": "code",
   "execution_count": null,
   "metadata": {},
   "outputs": [],
   "source": [
    "df_users_labels = df_users_labels.merge(df__mix_add_to_mm,on=['dtEvent','customUserId'],how='left')\n",
    "df_users_labels['Add_from_mix'] = df_users_labels['Add_from_mix'].fillna('Not')\n",
    "df_users_labels"
   ]
  },
  {
   "cell_type": "code",
   "execution_count": null,
   "metadata": {},
   "outputs": [],
   "source": [
    "#new_version_users_add_to_mm_parsed_cat.loc[new_version_users_add_to_mm_parsed_cat['customUserId'] == '165883608']"
   ]
  },
  {
   "cell_type": "code",
   "execution_count": null,
   "metadata": {},
   "outputs": [],
   "source": []
  },
  {
   "cell_type": "code",
   "execution_count": null,
   "metadata": {},
   "outputs": [],
   "source": []
  },
  {
   "cell_type": "code",
   "execution_count": null,
   "metadata": {},
   "outputs": [],
   "source": [
    "#ПОДПИСКА"
   ]
  },
  {
   "cell_type": "code",
   "execution_count": null,
   "metadata": {},
   "outputs": [],
   "source": [
    "df__users_subscription = new_version_users_tracks_parsed_cat[[\"dtEvent\",\"customUserId\",'subscription_type']]\n",
    "df__users_subscription = df__users_subscription.drop_duplicates().dropna().reset_index(drop=True)\n",
    "df__users_subscription\n"
   ]
  },
  {
   "cell_type": "code",
   "execution_count": null,
   "metadata": {},
   "outputs": [],
   "source": [
    "df_users_labels = df_users_labels.merge(df__users_subscription,on=['dtEvent','customUserId'],how='left')\n",
    "df_users_labels"
   ]
  },
  {
   "cell_type": "code",
   "execution_count": null,
   "metadata": {},
   "outputs": [],
   "source": []
  },
  {
   "cell_type": "code",
   "execution_count": null,
   "metadata": {},
   "outputs": [],
   "source": []
  },
  {
   "cell_type": "code",
   "execution_count": null,
   "metadata": {},
   "outputs": [],
   "source": []
  },
  {
   "cell_type": "code",
   "execution_count": null,
   "metadata": {},
   "outputs": [],
   "source": [
    "df_users_labels.to_csv(\"/Users/l.sergeev/Downloads/df_users_labels_test.csv\")"
   ]
  },
  {
   "cell_type": "code",
   "execution_count": null,
   "metadata": {},
   "outputs": [],
   "source": [
    "test = new_version_users_tracks_parsed_cat.loc[new_version_users_tracks_parsed_cat['customUserId'] == 'vk444438663']\n",
    "test.to_csv(\"/Users/l.sergeev/Downloads/test_vk444438663.csv\")"
   ]
  },
  {
   "cell_type": "code",
   "execution_count": null,
   "metadata": {},
   "outputs": [],
   "source": [
    "new_version_users_tracks_parsed_cat.loc[new_version_users_tracks_parsed_cat['customUserId'] == 'vk469511292']"
   ]
  },
  {
   "cell_type": "code",
   "execution_count": null,
   "metadata": {},
   "outputs": [],
   "source": [
    "test_group = new_version_users_tracks_parsed_cat[[\"dtEvent\",\"customUserId\",'subscription_type','idAppVersionTitle','method']][new_version_users_tracks_parsed_cat['subscription_type'] == 'none']\n"
   ]
  },
  {
   "cell_type": "code",
   "execution_count": null,
   "metadata": {},
   "outputs": [],
   "source": [
    "test_group2 = test_group[test_group['method'] == 'cache']\n",
    "test_group2.drop_duplicates().dropna().reset_index(drop=True)"
   ]
  },
  {
   "cell_type": "code",
   "execution_count": null,
   "metadata": {},
   "outputs": [],
   "source": [
    "test_group2 = test_group2.drop_duplicates().dropna().reset_index(drop=True)"
   ]
  },
  {
   "cell_type": "code",
   "execution_count": null,
   "metadata": {},
   "outputs": [],
   "source": [
    "test_group2.to_csv(\"/Users/l.sergeev/Downloads/test_group2.csv\")"
   ]
  },
  {
   "cell_type": "code",
   "execution_count": null,
   "metadata": {},
   "outputs": [],
   "source": [
    "test_group2"
   ]
  },
  {
   "cell_type": "code",
   "execution_count": null,
   "metadata": {},
   "outputs": [],
   "source": []
  }
 ],
 "metadata": {
  "kernelspec": {
   "display_name": "Python 3",
   "language": "python",
   "name": "python3"
  },
  "language_info": {
   "codemirror_mode": {
    "name": "ipython",
    "version": 3
   },
   "file_extension": ".py",
   "mimetype": "text/x-python",
   "name": "python",
   "nbconvert_exporter": "python",
   "pygments_lexer": "ipython3",
   "version": "3.6.5"
  }
 },
 "nbformat": 4,
 "nbformat_minor": 4
}
